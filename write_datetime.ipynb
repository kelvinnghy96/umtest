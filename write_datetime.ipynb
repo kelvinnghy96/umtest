{
 "cells": [
  {
   "cell_type": "code",
   "execution_count": 1,
   "id": "de2f37f3-520c-4cc6-873a-20dc1187945c",
   "metadata": {},
   "outputs": [
    {
     "name": "stdout",
     "output_type": "stream",
     "text": [
      "Date and time written to current_datetime.txt\n"
     ]
    }
   ],
   "source": [
    "from datetime import datetime\n",
    "\n",
    "# Get the current date and time\n",
    "now = datetime.now()\n",
    "\n",
    "# Format the date and time as a string\n",
    "current_time = now.strftime(\"%Y-%m-%d %H:%M:%S\")\n",
    "\n",
    "# Specify the filename\n",
    "filename = \"current_datetime.txt\"\n",
    "\n",
    "# Write the current date and time to the file\n",
    "with open(filename, \"w\") as file:\n",
    "    file.write(f\"Current date and time: {current_time}\")\n",
    "\n",
    "print(f\"Date and time written to {filename}\")\n"
   ]
  },
  {
   "cell_type": "code",
   "execution_count": null,
   "id": "5224fd69-83d3-44e1-b0b2-e44a3515325c",
   "metadata": {},
   "outputs": [],
   "source": []
  }
 ],
 "metadata": {
  "kernelspec": {
   "display_name": "Python 3 (ipykernel)",
   "language": "python",
   "name": "python3"
  },
  "language_info": {
   "codemirror_mode": {
    "name": "ipython",
    "version": 3
   },
   "file_extension": ".py",
   "mimetype": "text/x-python",
   "name": "python",
   "nbconvert_exporter": "python",
   "pygments_lexer": "ipython3",
   "version": "3.11.7"
  }
 },
 "nbformat": 4,
 "nbformat_minor": 5
}
