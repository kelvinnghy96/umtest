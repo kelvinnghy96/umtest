{
 "cells": [
  {
   "cell_type": "code",
   "execution_count": 2,
   "id": "de2f37f3-520c-4cc6-873a-20dc1187945c",
   "metadata": {},
   "outputs": [
    {
     "name": "stdout",
     "output_type": "stream",
     "text": [
      "Date and time written to 2024-05-20_18-47-52.txt\n"
     ]
    }
   ],
   "source": [
    "from datetime import datetime\n",
    "\n",
    "# Get the current date and time\n",
    "now = datetime.now()\n",
    "\n",
    "# Format the date and time as a string for the content\n",
    "current_time_str = now.strftime(\"%Y-%m-%d %H:%M:%S\")\n",
    "\n",
    "# Format the date and time as a string for the filename\n",
    "# Ensure the filename is valid by replacing spaces and colons with underscores\n",
    "filename_time_str = now.strftime(\"%Y-%m-%d_%H-%M-%S\")\n",
    "filename = f\"{filename_time_str}.txt\"\n",
    "\n",
    "# Write the current date and time to the file\n",
    "with open(filename, \"w\") as file:\n",
    "    file.write(f\"Current date and time: {current_time_str}\")\n",
    "\n",
    "print(f\"Date and time written to {filename}\")\n"
   ]
  },
  {
   "cell_type": "code",
   "execution_count": null,
   "id": "5224fd69-83d3-44e1-b0b2-e44a3515325c",
   "metadata": {},
   "outputs": [],
   "source": []
  }
 ],
 "metadata": {
  "kernelspec": {
   "display_name": "Python 3 (ipykernel)",
   "language": "python",
   "name": "python3"
  },
  "language_info": {
   "codemirror_mode": {
    "name": "ipython",
    "version": 3
   },
   "file_extension": ".py",
   "mimetype": "text/x-python",
   "name": "python",
   "nbconvert_exporter": "python",
   "pygments_lexer": "ipython3",
   "version": "3.11.7"
  }
 },
 "nbformat": 4,
 "nbformat_minor": 5
}
