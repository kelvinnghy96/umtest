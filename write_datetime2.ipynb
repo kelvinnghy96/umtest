{
 "cells": [
  {
   "cell_type": "code",
   "execution_count": 3,
   "id": "de2f37f3-520c-4cc6-873a-20dc1187945c",
   "metadata": {},
   "outputs": [
    {
     "name": "stdout",
     "output_type": "stream",
     "text": [
      "Date and time written to C:\\Users\\kelvi\\Desktop\\py scheduler testing 2\\2024-06-18_00-53-10.txt\n",
      "Sample DataFrame written to C:\\Users\\kelvi\\Desktop\\py scheduler testing 2\\2024-06-18_00-53-10.xlsx\n"
     ]
    }
   ],
   "source": [
    "import pandas as pd\n",
    "from datetime import datetime\n",
    "import os\n",
    "\n",
    "# Get the current date and time\n",
    "now = datetime.now()\n",
    "\n",
    "# Format the date and time as a string for the content\n",
    "current_time_str = now.strftime(\"%Y-%m-%d %H:%M:%S\")\n",
    "\n",
    "# Format the date and time as a string for the filename\n",
    "# Ensure the filename is valid by replacing spaces and colons with underscores\n",
    "filename_time_str = now.strftime(\"%Y-%m-%d_%H-%M-%S\")\n",
    "text_filename = f\"{filename_time_str}.txt\"\n",
    "excel_filename = f\"{filename_time_str}.xlsx\"\n",
    "\n",
    "# Specify the directory where you want to save the files\n",
    "directory = r\"C:\\Users\\kelvi\\Desktop\\py scheduler testing 2\"\n",
    "\n",
    "# Create the full paths\n",
    "text_full_path = os.path.join(directory, text_filename)\n",
    "excel_full_path = os.path.join(directory, excel_filename)\n",
    "\n",
    "# Write the current date and time to the text file\n",
    "with open(text_full_path, \"w\") as file:\n",
    "    file.write(f\"Current date and time: {current_time_str}\")\n",
    "\n",
    "print(f\"Date and time written to {text_full_path}\")\n",
    "\n",
    "# Create a sample DataFrame\n",
    "data = {\n",
    "    \"Column1\": [1, 2, 3, 4, 5],\n",
    "    \"Column2\": [\"A\", \"B\", \"C\", \"D\", \"E\"]\n",
    "}\n",
    "df = pd.DataFrame(data)\n",
    "\n",
    "# Write the DataFrame to an Excel file\n",
    "df.to_excel(excel_full_path, index=False)\n",
    "\n",
    "print(f\"Sample DataFrame written to {excel_full_path}\")\n"
   ]
  },
  {
   "cell_type": "code",
   "execution_count": null,
   "id": "5224fd69-83d3-44e1-b0b2-e44a3515325c",
   "metadata": {},
   "outputs": [],
   "source": []
  }
 ],
 "metadata": {
  "kernelspec": {
   "display_name": "Python 3 (ipykernel)",
   "language": "python",
   "name": "python3"
  },
  "language_info": {
   "codemirror_mode": {
    "name": "ipython",
    "version": 3
   },
   "file_extension": ".py",
   "mimetype": "text/x-python",
   "name": "python",
   "nbconvert_exporter": "python",
   "pygments_lexer": "ipython3",
   "version": "3.11.7"
  }
 },
 "nbformat": 4,
 "nbformat_minor": 5
}
